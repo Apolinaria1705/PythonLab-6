{
 "cells": [
  {
   "cell_type": "code",
   "execution_count": 96,
   "id": "c703ab2a-41f7-4419-9e94-8f8d4bd819a7",
   "metadata": {
    "scrolled": true
   },
   "outputs": [
    {
     "data": {
      "text/html": [
       "<style>\n",
       ".type{\n",
       "    color:indigo;\n",
       "    border:3px double green;\n",
       "    background:\n",
       "    padding: 20px;\n",
       "}\n",
       "</style>\n",
       "<div class=\"type\">Лабораторна робота №6</div>\n",
       "<div class=\"type\">Виконала: Лавріненко Поліна</div>\n",
       "<div class=\"type\">ВАРІАНТ №1</div>\n",
       "\n",
       "<svg width=\"300\" height=\"200\" xmlns=\"http://www.w3.org/2000/svg\">\n",
       "  <!-- Синие и белые полосы -->\n",
       "  <rect width=\"300\" height=\"22.22\" y=\"0\" fill=\"#0D5EAF\"/>\n",
       "  <rect width=\"300\" height=\"22.22\" y=\"22.22\" fill=\"white\"/>\n",
       "  <rect width=\"300\" height=\"22.22\" y=\"44.44\" fill=\"#0D5EAF\"/>\n",
       "  <rect width=\"300\" height=\"22.22\" y=\"66.66\" fill=\"white\"/>\n",
       "  <rect width=\"300\" height=\"22.22\" y=\"88.88\" fill=\"#0D5EAF\"/>\n",
       "  <rect width=\"300\" height=\"22.22\" y=\"111.1\" fill=\"white\"/>\n",
       "  <rect width=\"300\" height=\"22.22\" y=\"133.32\" fill=\"#0D5EAF\"/>\n",
       "  <rect width=\"300\" height=\"22.22\" y=\"155.54\" fill=\"white\"/>\n",
       "  <rect width=\"300\" height=\"22.22\" y=\"177.76\" fill=\"#0D5EAF\"/>\n",
       "  \n",
       "  <!-- Синий квадрат для креста -->\n",
       "  <rect width=\"111.1\" height=\"111.1\" fill=\"#0D5EAF\"/>\n",
       "\n",
       "  <!-- Белый крест -->\n",
       "  <rect width=\"33.33\" height=\"111.1\" x=\"38.88\" fill=\"white\"/>\n",
       "  <rect width=\"111.1\" height=\"33.33\" y=\"38.33\" fill=\"white\"/>\n",
       "</svg>\n"
      ],
      "text/plain": [
       "<IPython.core.display.HTML object>"
      ]
     },
     "metadata": {},
     "output_type": "display_data"
    }
   ],
   "source": [
    "%%HTML\n",
    "<style>\n",
    ".type{\n",
    "    color:indigo;\n",
    "    border:3px double green;\n",
    "    background:\n",
    "    padding: 20px;\n",
    "}\n",
    "</style>\n",
    "<div class=\"type\">Лабораторна робота №6</div>\n",
    "<div class=\"type\">Виконала: Лавріненко Поліна</div>\n",
    "<div class=\"type\">ВАРІАНТ №1</div>\n",
    "\n",
    "<svg width=\"300\" height=\"200\" xmlns=\"http://www.w3.org/2000/svg\">\n",
    "  <!-- Синие и белые полосы -->\n",
    "  <rect width=\"300\" height=\"22.22\" y=\"0\" fill=\"#0D5EAF\"/>\n",
    "  <rect width=\"300\" height=\"22.22\" y=\"22.22\" fill=\"white\"/>\n",
    "  <rect width=\"300\" height=\"22.22\" y=\"44.44\" fill=\"#0D5EAF\"/>\n",
    "  <rect width=\"300\" height=\"22.22\" y=\"66.66\" fill=\"white\"/>\n",
    "  <rect width=\"300\" height=\"22.22\" y=\"88.88\" fill=\"#0D5EAF\"/>\n",
    "  <rect width=\"300\" height=\"22.22\" y=\"111.1\" fill=\"white\"/>\n",
    "  <rect width=\"300\" height=\"22.22\" y=\"133.32\" fill=\"#0D5EAF\"/>\n",
    "  <rect width=\"300\" height=\"22.22\" y=\"155.54\" fill=\"white\"/>\n",
    "  <rect width=\"300\" height=\"22.22\" y=\"177.76\" fill=\"#0D5EAF\"/>\n",
    "  \n",
    "  <!-- Синий квадрат для креста -->\n",
    "  <rect width=\"111.1\" height=\"111.1\" fill=\"#0D5EAF\"/>\n",
    "\n",
    "  <!-- Белый крест -->\n",
    "  <rect width=\"33.33\" height=\"111.1\" x=\"38.88\" fill=\"white\"/>\n",
    "  <rect width=\"111.1\" height=\"33.33\" y=\"38.33\" fill=\"white\"/>\n",
    "</svg>"
   ]
  },
  {
   "cell_type": "markdown",
   "id": "6676e01e-f8af-4bed-aaf5-d7be4609973c",
   "metadata": {},
   "source": [
    "# **<Греція>**\n",
    "<div style =\"color:indigo;font-size:1.5em\">Офіційна назва — Грецька Республіка</div>\n",
    "\n",
    "1) Населення: 10,7 млн осіб (73 місце у світі);\n",
    "3) Столиця і найбільше місто : Афіни;\n",
    "4) Площа : $131957км^2$;\n",
    "5) Валюта : Євро; \n",
    "6) Форма правління : унітарна парламентська республіка;\n",
    "7) Греція — розвинена індустріально-аграрна держава;\n",
    "8) Знаходячись на південній околиці Балканського півострова, Греція розташована на перехресті Європи, Азії та Африки;\n",
    "9) Клімат країни субтропічний, середземноморський, зі спекотним і сухим літом, м'якою дощовою зимою. \n",
    "## *Архітектура*\n",
    "* Культура Греції розвивалась впродовж багатьох тисяч років, від [мінойської](https://uk.wikipedia.org/wiki/%D0%9C%D1%96%D0%BD%D0%BE%D0%B9%D1%81%D1%8C%D0%BA%D0%B0_%D1%86%D0%B8%D0%B2%D1%96%D0%BB%D1%96%D0%B7%D0%B0%D1%86%D1%96%D1%8F) та [мікенської цивілізацій](https://uk.wikipedia.org/wiki/%D0%9C%D1%96%D0%BA%D0%B5%D0%BD%D1%81%D1%8C%D0%BA%D0%B0_%D1%86%D0%B8%D0%B2%D1%96%D0%BB%D1%96%D0%B7%D0%B0%D1%86%D1%96%D1%8F), які породили класичну Грецію.\n",
    "\n",
    "*Парфенон-Афінський акрополь:*\n",
    "\n",
    "![Picture](https://upload.wikimedia.org/wikipedia/commons/thumb/7/72/O_Partenon_de_Atenas.jpg/300px-O_Partenon_de_Atenas.jpg)\n",
    "## *Література та мистецтво*\n",
    "* Грецька література поділяється на три періоди: давньогрецьку, візантійську та новогрецьку. У [Стародавній Греції](https://uk.wikipedia.org/wiki/%D0%A1%D1%82%D0%B0%D1%80%D0%BE%D0%B4%D0%B0%D0%B2%D0%BD%D1%8F_%D0%93%D1%80%D0%B5%D1%86%D1%96%D1%8F) література розквітла раніше, ніж склалися класична наука, освіта та мистецтво.\n",
    "* Як самостійний жанр розвивалась давньогрецька драма, серед її найяскравіших представників: Есхіл, Софокл, Евріпід, Аристофан.\n",
    "\n",
    "*Автор державного гімну Греції - [Діонісіос Соломос](https://uk.wikipedia.org/wiki/%D0%94%D1%96%D0%BE%D0%BD%D1%96%D1%81%D1%96%D0%BE%D1%81_%D0%A1%D0%BE%D0%BB%D0%BE%D0%BC%D0%BE%D1%81):*\n",
    "\n",
    "<img src=\"https://upload.wikimedia.org/wikipedia/commons/thumb/6/6f/Solomos_portrait_4.jpg/240px-Solomos_portrait_4.jpg\" width=\"175\">\n",
    "\n",
    "## *Історія*\n",
    "| Дата  | Подія |\n",
    "|------|-------|\n",
    "|1887р|Засновано Афінський університет|\n",
    "|1837р|Засноване Грецьке археологічне товариство|\n",
    "|1961р|Засновано центр ядерних досліджень «Демокріт»|\n",
    "|1830р|Греція стала незалежною державою|\n",
    "|1981р|Греція вступила в Європейське Співтовариство|"
   ]
  },
  {
   "cell_type": "code",
   "execution_count": null,
   "id": "fc72db5c-9e63-4a69-bfe8-4296379bd6ab",
   "metadata": {},
   "outputs": [],
   "source": [
    "#4. Створити функцію для реалізації алгоритму, відповідно до номеру свого \n",
    "#варіанту з табл. 1. Для створеної функції реалізувати 2-3 тестові приклади в \n",
    "#комірках ноутбуку. Для всіх варіантів організувати контроль значень, що \n",
    "#вводяться.\n",
    "\n",
    "#Варіант №1\n",
    "#Реалізація гіпотези Гольдбаха, що стверджує, що будь-яке парне число (окрім 2) може бути представлене у \n",
    "#вигляді суми двох простих чисел. \n",
    "\n",
    "#Приклад:\n",
    "#In [2] task_1() 6\n",
    "#Out [2] Число 6 можна представити к 3+3\n",
    "#In [3] task_1() 28\n",
    "#Out [3] Число 28 можна представити як 5+23\n",
    "\n",
    "#Просте число — це натуральне число, яке має рівно два різні натуральні дільники (лише 1 і саме число). \n",
    "#Решту чисел, окрім одиниці та нуля, називають складеними.\n",
    "#2, 3, 5, 7, 11, 13, 17, 19, 23, 29, 31,37,41,\n",
    "#43, 47, 53, 59,61, 67, 71, 73, 79, 83,89, 97, \n",
    "#101, 103, 107, 109, 113 , 127, 131, 137, 139, 149..."
   ]
  },
  {
   "cell_type": "code",
   "execution_count": 61,
   "id": "52460883-ed20-4da0-94a1-2e192ec1fe1f",
   "metadata": {},
   "outputs": [],
   "source": [
    "def proste_ch(p):\n",
    "    if p <= 1:\n",
    "        return False\n",
    "    for i in range(2,int(p**0.5) + 1):\n",
    "        if p % i == 0:\n",
    "            return False\n",
    "    return True\n",
    "\n",
    "def gipoteza_Goldbaha(num):\n",
    "    if num <= 2 or num %2 != 0:\n",
    "        return None #якщо число непарне або <= 2\n",
    "    for i in range(2, num):\n",
    "        if proste_ch(i) and proste_ch(num - i):\n",
    "            return i,num - i\n",
    "    return None #не вдалосяся знайти пару простих чисел"
   ]
  },
  {
   "cell_type": "code",
   "execution_count": 63,
   "id": "a6a1ef0e-fa96-4a96-b8af-169036dd234b",
   "metadata": {},
   "outputs": [
    {
     "name": "stdin",
     "output_type": "stream",
     "text": [
      "Введіть число (або 0 щоб завершити програму) > 132\n"
     ]
    },
    {
     "name": "stdout",
     "output_type": "stream",
     "text": [
      "Ваше число 132 представлене у вигляді суми двох простих чисел : 5 + 127\n"
     ]
    },
    {
     "name": "stdin",
     "output_type": "stream",
     "text": [
      "Введіть число (або 0 щоб завершити програму) > 55\n"
     ]
    },
    {
     "name": "stdout",
     "output_type": "stream",
     "text": [
      "!ПОМИЛКА! (Введіть ПАРНЕ число або більше 2)\n"
     ]
    },
    {
     "name": "stdin",
     "output_type": "stream",
     "text": [
      "Введіть число (або 0 щоб завершити програму) > 144\n"
     ]
    },
    {
     "name": "stdout",
     "output_type": "stream",
     "text": [
      "Ваше число 144 представлене у вигляді суми двох простих чисел : 5 + 139\n"
     ]
    },
    {
     "name": "stdin",
     "output_type": "stream",
     "text": [
      "Введіть число (або 0 щоб завершити програму) > 89\n"
     ]
    },
    {
     "name": "stdout",
     "output_type": "stream",
     "text": [
      "!ПОМИЛКА! (Введіть ПАРНЕ число або більше 2)\n"
     ]
    },
    {
     "name": "stdin",
     "output_type": "stream",
     "text": [
      "Введіть число (або 0 щоб завершити програму) > 1\n"
     ]
    },
    {
     "name": "stdout",
     "output_type": "stream",
     "text": [
      "!ПОМИЛКА! (Введіть ПАРНЕ число або більше 2)\n"
     ]
    },
    {
     "name": "stdin",
     "output_type": "stream",
     "text": [
      "Введіть число (або 0 щоб завершити програму) > 54\n"
     ]
    },
    {
     "name": "stdout",
     "output_type": "stream",
     "text": [
      "Ваше число 54 представлене у вигляді суми двох простих чисел : 7 + 47\n"
     ]
    },
    {
     "name": "stdin",
     "output_type": "stream",
     "text": [
      "Введіть число (або 0 щоб завершити програму) > 0\n"
     ]
    },
    {
     "name": "stdout",
     "output_type": "stream",
     "text": [
      "< Програма завершена >\n"
     ]
    }
   ],
   "source": [
    "while True:\n",
    "    num = int(input(\"Введіть число (або 0 щоб завершити програму) >\"))\n",
    "    if num == 0:\n",
    "        print(\"< Програма завершена >\")\n",
    "        break\n",
    "    rez = gipoteza_Goldbaha(num)\n",
    "    if rez:\n",
    "        print(f\"Ваше число {num} представлене у вигляді суми двох простих чисел : {rez[0]} + {rez[1]}\")\n",
    "    else:\n",
    "        print(\"!ПОМИЛКА! (Введіть ПАРНЕ число або більше 2)\")"
   ]
  },
  {
   "cell_type": "code",
   "execution_count": 65,
   "id": "462cd100-7d15-4731-8f5a-de1abb1b20b1",
   "metadata": {},
   "outputs": [
    {
     "ename": "AssertionError",
     "evalue": "",
     "output_type": "error",
     "traceback": [
      "\u001b[1;31m---------------------------------------------------------------------------\u001b[0m",
      "\u001b[1;31mAssertionError\u001b[0m                            Traceback (most recent call last)",
      "Cell \u001b[1;32mIn[65], line 3\u001b[0m\n\u001b[0;32m      1\u001b[0m \u001b[38;5;28;01massert\u001b[39;00m gipoteza_Goldbaha(\u001b[38;5;241m55\u001b[39m) \u001b[38;5;241m==\u001b[39m \u001b[38;5;28;01mNone\u001b[39;00m\n\u001b[0;32m      2\u001b[0m \u001b[38;5;28;01massert\u001b[39;00m gipoteza_Goldbaha(\u001b[38;5;241m124\u001b[39m) \u001b[38;5;241m==\u001b[39m (\u001b[38;5;241m11\u001b[39m,\u001b[38;5;241m113\u001b[39m)\n\u001b[1;32m----> 3\u001b[0m \u001b[38;5;28;01massert\u001b[39;00m gipoteza_Goldbaha(\u001b[38;5;241m2\u001b[39m) \u001b[38;5;241m==\u001b[39m (\u001b[38;5;241m1\u001b[39m,\u001b[38;5;241m1\u001b[39m)\n",
      "\u001b[1;31mAssertionError\u001b[0m: "
     ]
    }
   ],
   "source": [
    "assert gipoteza_Goldbaha(55) == None\n",
    "assert gipoteza_Goldbaha(124) == (11,113)\n",
    "assert gipoteza_Goldbaha(2) == (1,1)"
   ]
  },
  {
   "cell_type": "code",
   "execution_count": null,
   "id": "dcb2ae42-7ecf-4b58-a8bf-99edab61aee5",
   "metadata": {},
   "outputs": [],
   "source": []
  }
 ],
 "metadata": {
  "kernelspec": {
   "display_name": "Python 3 (ipykernel)",
   "language": "python",
   "name": "python3"
  },
  "language_info": {
   "codemirror_mode": {
    "name": "ipython",
    "version": 3
   },
   "file_extension": ".py",
   "mimetype": "text/x-python",
   "name": "python",
   "nbconvert_exporter": "python",
   "pygments_lexer": "ipython3",
   "version": "3.12.4"
  }
 },
 "nbformat": 4,
 "nbformat_minor": 5
}
